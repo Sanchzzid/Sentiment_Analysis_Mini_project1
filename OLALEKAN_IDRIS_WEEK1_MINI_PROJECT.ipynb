{
 "cells": [
  {
   "cell_type": "code",
   "execution_count": 15,
   "id": "5619dcfb",
   "metadata": {},
   "outputs": [
    {
     "name": "stdout",
     "output_type": "stream",
     "text": [
      "Please enter your feedback: This is really bad\n",
      "\n",
      "Occurrences of each negative word:\n",
      "bad: 1\n",
      "not good: 0\n",
      "poor: 0\n",
      "\n",
      "Sentiment Analysis Result:\n",
      "The feedback is negative.\n"
     ]
    }
   ],
   "source": [
    "def count_negative_words(text):\n",
    "    negative_words = [\"bad\", \"not good\", \"poor\"]\n",
    "    word_list = text.lower().split()\n",
    "    negative_word_count = 0\n",
    "    negative_word_occurrences = {word: 0 for word in negative_words}\n",
    "\n",
    "    for word in word_list:\n",
    "        if word in negative_words:\n",
    "            negative_word_count += 1\n",
    "            negative_word_occurrences[word] += 1\n",
    "\n",
    "    total_words = len(word_list)\n",
    "    percentage_negative = (negative_word_count / total_words) * 100\n",
    "\n",
    "    return percentage_negative, negative_word_occurrences\n",
    "\n",
    "def sentiment_analysis():\n",
    "    user_input = input(\"Please enter your feedback: \")\n",
    "    percentage_negative, negative_word_occurrences = count_negative_words(user_input)\n",
    "\n",
    "    print(\"\\nOccurrences of each negative word:\")\n",
    "    for word, count in negative_word_occurrences.items():\n",
    "        print(f\"{word}: {count}\")\n",
    "\n",
    "    print(\"\\nSentiment Analysis Result:\")\n",
    "    if percentage_negative > 5:\n",
    "        print(\"The feedback is negative.\")\n",
    "    else:\n",
    "        print(\"The feedback is positive.\")\n",
    "\n",
    "sentiment_analysis()"
   ]
  },
  {
   "cell_type": "code",
   "execution_count": null,
   "id": "b039cd35",
   "metadata": {},
   "outputs": [],
   "source": []
  },
  {
   "cell_type": "code",
   "execution_count": null,
   "id": "2c4caf9f",
   "metadata": {},
   "outputs": [],
   "source": []
  }
 ],
 "metadata": {
  "kernelspec": {
   "display_name": "Python 3",
   "language": "python",
   "name": "python3"
  },
  "language_info": {
   "codemirror_mode": {
    "name": "ipython",
    "version": 3
   },
   "file_extension": ".py",
   "mimetype": "text/x-python",
   "name": "python",
   "nbconvert_exporter": "python",
   "pygments_lexer": "ipython3",
   "version": "3.8.8"
  }
 },
 "nbformat": 4,
 "nbformat_minor": 5
}
